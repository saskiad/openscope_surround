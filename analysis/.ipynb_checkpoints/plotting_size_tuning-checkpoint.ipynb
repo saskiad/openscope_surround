{
 "cells": [
  {
   "cell_type": "code",
   "execution_count": 20,
   "metadata": {},
   "outputs": [],
   "source": [
    "import pandas as pd\n",
    "import numpy as np\n",
    "import matplotlib.pyplot as plt\n",
    "%matplotlib inline\n",
    "import os\n",
    "import seaborn as sns"
   ]
  },
  {
   "cell_type": "code",
   "execution_count": 2,
   "metadata": {},
   "outputs": [],
   "source": [
    "metrics = pd.read_csv(r'/Users/saskiad/Documents/Data/Openscope_Multiplex_trim/analysis/tf/size_metrics_all.csv')"
   ]
  },
  {
   "cell_type": "code",
   "execution_count": 3,
   "metadata": {},
   "outputs": [],
   "source": [
    "analysis_file_path = r'/Users/saskiad/Documents/Data/Openscope_Multiplex_trim/analysis/tf'"
   ]
  },
  {
   "cell_type": "code",
   "execution_count": 4,
   "metadata": {},
   "outputs": [],
   "source": [
    "import h5py"
   ]
  },
  {
   "cell_type": "code",
   "execution_count": 6,
   "metadata": {},
   "outputs": [],
   "source": [
    "session_id = 976843461"
   ]
  },
  {
   "cell_type": "code",
   "execution_count": 9,
   "metadata": {},
   "outputs": [],
   "source": [
    "analysis_file = os.path.join(analysis_file_path, str(session_id)+'_st_analysis.h5')\n",
    "expt_path = r'/Users/saskiad/Documents/Data/Openscope_Multiplex_trim/Size_Tuning_'+str(session_id)+'_data.h5'"
   ]
  },
  {
   "cell_type": "code",
   "execution_count": 12,
   "metadata": {},
   "outputs": [],
   "source": [
    "f = h5py.File(analysis_file, 'r')\n",
    "response = f['response'][()]\n",
    "f.close()\n",
    "sweep_response = pd.read_hdf(analysis_file, 'sweep_response')\n",
    "stim_table = pd.read_hdf(expt_path, 'drifting_gratings_size')"
   ]
  },
  {
   "cell_type": "code",
   "execution_count": 13,
   "metadata": {},
   "outputs": [
    {
     "data": {
      "text/plain": [
       "(8, 2, 6, 112, 4)"
      ]
     },
     "execution_count": 13,
     "metadata": {},
     "output_type": "execute_result"
    }
   ],
   "source": [
    "response.shape"
   ]
  },
  {
   "cell_type": "code",
   "execution_count": 19,
   "metadata": {},
   "outputs": [
    {
     "data": {
      "text/plain": [
       "<matplotlib.image.AxesImage at 0x122b015f8>"
      ]
     },
     "execution_count": 19,
     "metadata": {},
     "output_type": "execute_result"
    },
    {
     "data": {
      "image/png": "[encoded data removed]",
      "text/plain": [
       "<Figure size 432x288 with 1 Axes>"
      ]
     },
     "metadata": {
      "needs_background": "light"
     },
     "output_type": "display_data"
    }
   ],
   "source": [
    "plt.imshow(response[:,0,:,1,0])"
   ]
  },
  {
   "cell_type": "code",
   "execution_count": null,
   "metadata": {},
   "outputs": [],
   "source": [
    "\n",
    "valid = metrics_rf#[metrics_rf.valid]\n",
    "for index, row in valid.iterrows():\n",
    "    cell_id = row.cell_id\n",
    "    session_id = row.session_id\n",
    "    cell_index = row.cell_index\n",
    "    pref_ori = orivals[int(row.center_dir)]\n",
    "        \n",
    "    analysis_file = os.path.join(analysis_file_path, str(session_id)+'_st_analysis.h5')\n",
    "    expt_path = r'/Users/saskiad/Documents/Data/Openscope_Multiplex_trim/Size_Tuning_'+str(session_id)+'_data.h5'\n",
    "    \n",
    "    f = h5py.File(analysis_file, 'r')\n",
    "    response = f['response'][()]\n",
    "    f.close()\n",
    "    sweep_response = pd.read_hdf(analysis_file, 'sweep_response')\n",
    "    stim_table = pd.read_hdf(expt_path, 'drifting_gratings_size')\n",
    "    \n",
    "\n",
    "    f = h5py.File(expt_path, 'r')\n",
    "    mp = f['max_projection'][()]\n",
    "    rois = f['roi_outlines'][()]\n",
    "    f.close()\n",
    "    rois = rois.astype(float)\n",
    "    rois[rois==0] = np.NaN\n",
    "    roi_table = pd.read_hdf(expt_path, 'roi_table')\n",
    "    \n",
    "    plt.figure(figsize=(25,15))\n",
    "\n",
    "    ax1 = plt.subplot2grid((3,3),(0,0))\n",
    "    ax2 = plt.subplot2grid((3,3),(1,0))\n",
    "    ax3 = plt.subplot2grid((3,3),(0,1), rowspan=2)\n",
    "    ax6 = plt.subplot2grid((3,3),(0,2), rowspan=2)\n",
    "    ax4 = plt.subplot2grid((3,3), (2,0))\n",
    "    ax5 = plt.subplot2grid((3,3), (2,1))\n",
    "    ax7 = plt.subplot2grid((3,3),(2,2))\n",
    "    \n",
    "    #Tuning curve\n",
    "    ax1.errorbar(range(0,360,45),response[:,0,cell_index,0], yerr=response[:,0,cell_index,1]/np.sqrt(response[:,0,cell_index,2]), fmt='o-', color='k', label='center')\n",
    "    ax1.errorbar(range(0,360,45),response[:,1,cell_index,0], yerr=response[:,1,cell_index,1]/np.sqrt(response[:,1,cell_index,2]), fmt='o-', color='r', label='iso')\n",
    "    ax1.errorbar(range(0,360,45),response[:,2,cell_index,0], yerr=response[:,2,cell_index,1]/np.sqrt(response[:,2,cell_index,2]), fmt='o-', color='b', label='ortho')\n",
    "    ax1.set_xticks(range(0,360,45));\n",
    "    ax1.set_xlabel(\"Direction (deg)\", fontsize=16)\n",
    "    ax1.set_ylabel(\"DF/F\", fontsize=16)\n",
    "    ax2.set_title(str(pref_tf)+\" Hz\", fontsize=16)\n",
    "\n",
    "    ax1.axhline(y=response[0,3,cell_index,0], ls='--', color='gray')\n",
    "    ax1.legend()\n",
    "    sns.despine()\n",
    "\n",
    "    #Preferred direction\n",
    "    ax2.plot(sweep_response[(stim_table.condition=='center')&(stim_table.Center_Ori==pref_ori)][str(cell_index)].mean(), color='k')\n",
    "    ax2.plot(sweep_response[(stim_table.condition=='ortho')&(stim_table.Center_Ori==pref_ori)][str(cell_index)].mean(), color='b')\n",
    "    ax2.plot(sweep_response[(stim_table.condition=='iso')&(stim_table.Center_Ori==pref_ori)][str(cell_index)].mean(), color='r')\n",
    "    ax2.plot(sweep_response[(stim_table.condition=='blank')][str(cell_index)].mean(), color='gray')\n",
    "    # ax2.plot(sweep_response[(stim_table.condition=='surround')&(stim_table.Surround_Ori==90)][str(cell_index)].mean(), color='purple')\n",
    "    ax2.axvspan(30,90, color='gray', alpha=0.1)\n",
    "    ax2.set_xticks([30,60,90,120],[0,1,2,3])\n",
    "    ax2.set_xlabel(\"Time (s)\", fontsize=18)\n",
    "    ax2.set_ylabel(\"DFF\", fontsize=18)\n",
    "    ax2.set_title(str(pref_ori)+\" Deg\"+\" \"+str(pref_tf)+\" Hz\", fontsize=16)\n",
    "\n",
    "    sns.despine()\n",
    "\n",
    "    \n",
    "    #ROI mask\n",
    "    plt.imshow(mp, cmap='gray')\n",
    "    plt.imshow(rois, cmap='Reds')\n",
    "    plt.plot(roi_table.x[cell_index], roi_table.y[cell_index], 'yo')\n",
    "    plt.xlim(roi_table.x[cell_index]-100, roi_table.x[cell_index]+100)\n",
    "    plt.ylim(roi_table.y[cell_index]+100, roi_table.y[cell_index]-100)\n",
    "    \n",
    "    plt.suptitle(\"Session: \"+str(expt_id)+\" Cell: \"+str(cell_id), fontsize=18)\n",
    "    plt.tight_layout()\n",
    "    plt.savefig(r'/Users/saskiad/Documents/Data/Openscope_Multiplex_trim/analysis/ST_figures/'+str(cell_id)+'.png')\n",
    "    plt.close()"
   ]
  }
 ],
 "metadata": {
  "kernelspec": {
   "display_name": "Python 3",
   "language": "python",
   "name": "python3"
  },
  "language_info": {
   "codemirror_mode": {
    "name": "ipython",
    "version": 3
   },
   "file_extension": ".py",
   "mimetype": "text/x-python",
   "name": "python",
   "nbconvert_exporter": "python",
   "pygments_lexer": "ipython3",
   "version": "3.7.3"
  }
 },
 "nbformat": 4,
 "nbformat_minor": 2
}

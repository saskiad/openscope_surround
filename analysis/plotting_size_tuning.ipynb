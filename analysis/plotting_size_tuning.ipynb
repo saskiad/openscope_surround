{
 "cells": [
  {
   "cell_type": "code",
   "execution_count": 20,
   "metadata": {},
   "outputs": [],
   "source": [
    "import pandas as pd\n",
    "import numpy as np\n",
    "import matplotlib.pyplot as plt\n",
    "%matplotlib inline\n",
    "import os\n",
    "import seaborn as sns"
   ]
  },
  {
   "cell_type": "code",
   "execution_count": 49,
   "metadata": {},
   "outputs": [],
   "source": [
    "metrics = pd.read_csv(r'/Users/saskiad/Documents/Data/Openscope_Multiplex_trim/analysis/tf/size_metrics_all.csv')"
   ]
  },
  {
   "cell_type": "code",
   "execution_count": 3,
   "metadata": {},
   "outputs": [],
   "source": [
    "analysis_file_path = r'/Users/saskiad/Documents/Data/Openscope_Multiplex_trim/analysis/tf'"
   ]
  },
  {
   "cell_type": "code",
   "execution_count": 4,
   "metadata": {},
   "outputs": [],
   "source": [
    "import h5py"
   ]
  },
  {
   "cell_type": "code",
   "execution_count": 22,
   "metadata": {},
   "outputs": [],
   "source": [
    "sizevals = [30,52,67,79,120]\n",
    "orivals = range(0,360,45)\n",
    "tfvals = [1,2]"
   ]
  },
  {
   "cell_type": "code",
   "execution_count": 6,
   "metadata": {},
   "outputs": [],
   "source": [
    "session_id = 976843461"
   ]
  },
  {
   "cell_type": "code",
   "execution_count": 9,
   "metadata": {},
   "outputs": [],
   "source": [
    "analysis_file = os.path.join(analysis_file_path, str(session_id)+'_st_analysis.h5')\n",
    "expt_path = r'/Users/saskiad/Documents/Data/Openscope_Multiplex_trim/Size_Tuning_'+str(session_id)+'_data.h5'"
   ]
  },
  {
   "cell_type": "code",
   "execution_count": 12,
   "metadata": {},
   "outputs": [],
   "source": [
    "f = h5py.File(analysis_file, 'r')\n",
    "response = f['response'][()]\n",
    "f.close()\n",
    "sweep_response = pd.read_hdf(analysis_file, 'sweep_response')\n",
    "stim_table = pd.read_hdf(expt_path, 'drifting_gratings_size')"
   ]
  },
  {
   "cell_type": "code",
   "execution_count": 13,
   "metadata": {},
   "outputs": [
    {
     "data": {
      "text/plain": [
       "(8, 2, 6, 112, 4)"
      ]
     },
     "execution_count": 13,
     "metadata": {},
     "output_type": "execute_result"
    }
   ],
   "source": [
    "response.shape"
   ]
  },
  {
   "cell_type": "code",
   "execution_count": 19,
   "metadata": {},
   "outputs": [
    {
     "data": {
      "text/plain": [
       "<matplotlib.image.AxesImage at 0x122b015f8>"
      ]
     },
     "execution_count": 19,
     "metadata": {},
     "output_type": "execute_result"
    },
    {
     "data": {
      "image/png": "[encoded data removed]",
      "text/plain": [
       "<Figure size 432x288 with 1 Axes>"
      ]
     },
     "metadata": {
      "needs_background": "light"
     },
     "output_type": "display_data"
    }
   ],
   "source": [
    "plt.imshow(response[:,0,:,1,0])"
   ]
  },
  {
   "cell_type": "code",
   "execution_count": 33,
   "metadata": {},
   "outputs": [],
   "source": [
    "orivals = range(0,360,45)\n",
    "tfvals = [1.,2.]\n",
    "sizevals = [30,52,67,79,120]"
   ]
  },
  {
   "cell_type": "code",
   "execution_count": 32,
   "metadata": {},
   "outputs": [],
   "source": [
    "from allensdk.brain_observatory.observatory_plots import plot_mask_outline"
   ]
  },
  {
   "cell_type": "code",
   "execution_count": 51,
   "metadata": {},
   "outputs": [
    {
     "name": "stderr",
     "output_type": "stream",
     "text": [
      "/Users/saskiad/anaconda3/lib/python3.7/site-packages/ipykernel_launcher.py:2: FutureWarning: \n",
      ".ix is deprecated. Please use\n",
      ".loc for label based indexing or\n",
      ".iloc for positional indexing\n",
      "\n",
      "See the documentation here:\n",
      "http://pandas.pydata.org/pandas-docs/stable/user_guide/indexing.html#ix-indexer-is-deprecated\n",
      "  \n",
      "/Users/saskiad/anaconda3/lib/python3.7/site-packages/ipykernel_launcher.py:6: FutureWarning: \n",
      ".ix is deprecated. Please use\n",
      ".loc for label based indexing or\n",
      ".iloc for positional indexing\n",
      "\n",
      "See the documentation here:\n",
      "http://pandas.pydata.org/pandas-docs/stable/user_guide/indexing.html#ix-indexer-is-deprecated\n",
      "  \n"
     ]
    }
   ],
   "source": [
    "metrics['responsive'] = False\n",
    "metrics.ix[metrics.peak_percent_trials>0.25, 'responsive'] = True\n",
    "\n",
    "metrics.dir_percent/=50.\n",
    "metrics['responsive_2'] = False\n",
    "metrics.ix[metrics.dir_percent>0.6, 'responsive_2'] = True"
   ]
  },
  {
   "cell_type": "code",
   "execution_count": 56,
   "metadata": {},
   "outputs": [
    {
     "data": {
      "text/plain": [
       "Index(['Unnamed: 0', 'cell_index', 'dir', 'tf', 'prefsize', 'osi', 'dsi',\n",
       "       'dir_percent', 'peak_mean', 'peak_std', 'blank_mean', 'blank_std',\n",
       "       'peak_percent_trials', 'cell_id', 'session_id', 'valid', 'cre', 'area',\n",
       "       'depth', 'responsive', 'responsive_2'],\n",
       "      dtype='object')"
      ]
     },
     "execution_count": 56,
     "metadata": {},
     "output_type": "execute_result"
    }
   ],
   "source": [
    "metrics.keys()"
   ]
  },
  {
   "cell_type": "code",
   "execution_count": 57,
   "metadata": {},
   "outputs": [],
   "source": [
    "keys1 = ['valid','responsive','responsive_2','cell_index','cell_id', 'session_id', 'cre', 'area', 'depth', \n",
    "         'dir', 'tf', 'prefsize', 'osi', 'dsi', 'peak_mean','peak_std','blank_mean','blank_std', 'peak_percent_trials','dir_percent']\n",
    "\n",
    "valid = metrics#[metrics_rf.valid]\n",
    "for index, row in valid.iterrows():\n",
    "    cell_id = row.cell_id\n",
    "    session_id = row.session_id\n",
    "    cell_index = row.cell_index\n",
    "    pref_ori = orivals[int(row.dir)]\n",
    "    pref_tf = tfvals[int(row.tf)]\n",
    "    pref_size = sizevals[int(row.prefsize-1)]\n",
    "#     print(row.prefsize, pref_size)\n",
    "        \n",
    "    analysis_file = os.path.join(analysis_file_path, str(session_id)+'_st_analysis.h5')\n",
    "    expt_path = r'/Users/saskiad/Documents/Data/Openscope_Multiplex_trim/Size_Tuning_'+str(session_id)+'_data.h5'\n",
    "    \n",
    "    f = h5py.File(analysis_file, 'r')\n",
    "    response = f['response'][()]\n",
    "    f.close()\n",
    "    sweep_response = pd.read_hdf(analysis_file, 'sweep_response')\n",
    "    stim_table = pd.read_hdf(expt_path, 'drifting_gratings_size')\n",
    "    \n",
    "    f = h5py.File(expt_path, 'r')\n",
    "    mp = f['max_projection'][()]\n",
    "    rois = f['roi_outlines'][()]\n",
    "    f.close()\n",
    "    rois = rois.astype(float)\n",
    "    rois[rois==0] = np.NaN\n",
    "    roi_table = pd.read_hdf(expt_path, 'roi_table')\n",
    "    \n",
    "    plt.figure(figsize=(25,15))\n",
    "\n",
    "    ax1 = plt.subplot2grid((3,3),(0,0))\n",
    "    ax2 = plt.subplot2grid((3,3),(1,0))\n",
    "    ax3 = plt.subplot2grid((3,3),(0,1), rowspan=2)\n",
    "#     ax6 = plt.subplot2grid((3,3),(0,2), rowspan=2)\n",
    "    ax4 = plt.subplot2grid((3,3), (2,0))\n",
    "    ax5 = plt.subplot2grid((3,3), (2,1))\n",
    "    ax7 = plt.subplot2grid((3,3),(2,2))\n",
    "    \n",
    "    #Tuning curve\n",
    "    ax1.errorbar(range(5), response[row.dir,row.tf,1:,cell_index,0], \n",
    "                 yerr=response[row.dir,row.tf,1:,cell_index,1]/np.sqrt(response[row.dir,row.tf,1:,cell_index,2]), fmt='o-')\n",
    "    ax1.fill_between(range(5), response[0,0,0,cell_index,0]+(response[0,0,0,cell_index,1]/np.sqrt(response[0,0,0,cell_index,2])), \n",
    "                     response[0,0,0,cell_index,0]-(response[0,0,0,cell_index,1]/np.sqrt(response[0,0,0,cell_index,2])), \n",
    "                     color='k', alpha=0.3)\n",
    "    ax1.axhline(y=response[0,0,0,cell_index,0], color='k', ls='--',lw=2)\n",
    "    \n",
    "    ax1.set_xticks(range(5));\n",
    "    ax1.set_xticklabels(sizevals)\n",
    "    ax1.set_xlabel(\"Size (deg)\", fontsize=16)\n",
    "    ax1.set_ylabel(\"DF/F\", fontsize=16)\n",
    "    ax1.set_title(str(pref_ori)+\" Deg\"+\" \"+str(pref_tf)+\" Hz\", fontsize=16)\n",
    "    sns.despine()\n",
    "\n",
    "    #Preferred direction\n",
    "    ax2.plot(sweep_response[(stim_table.Ori==pref_ori)&(stim_table.TF==pref_tf)&(stim_table.Size==pref_size)][str(cell_index)].mean())\n",
    "    ax2.plot(sweep_response[np.isnan(stim_table.Ori)][str(cell_index)].mean(), color='gray')\n",
    "    ax2.axvspan(30,90, color='gray', alpha=0.1)\n",
    "    ax2.set_xticks([30,60,90,120],[0,1,2,3])\n",
    "    ax2.set_xlabel(\"Time (s)\", fontsize=18)\n",
    "    ax2.set_ylabel(\"DFF\", fontsize=18)\n",
    "    ax2.set_title(str(pref_ori)+\" Deg\"+\" \"+str(pref_tf)+\" Hz\"+\" \"+str(pref_size), fontsize=16)\n",
    "    sns.despine()\n",
    "    \n",
    "    #Heatmap\n",
    "    ax4.imshow(response[:,0,1:,cell_index,0], vmin=0, vmax=row.peak_mean)\n",
    "    ax4.set_yticks(range(8))\n",
    "    ax4.set_yticklabels(orivals)\n",
    "    ax4.set_xticks(range(5))\n",
    "    ax4.set_xticklabels(sizevals)\n",
    "    ax4.set_xlabel(\"Size\")\n",
    "    ax4.set_ylabel(\"Direction\")\n",
    "    ax4.set_title(\"1 Hz\", fontsize=16)\n",
    "    \n",
    "    ax5.imshow(response[:,1,1:,cell_index,0], vmin=0, vmax=row.peak_mean)\n",
    "    ax5.set_yticks(range(8))\n",
    "    ax5.set_yticklabels(orivals)\n",
    "    ax5.set_xticks(range(5))\n",
    "    ax5.set_xticklabels(sizevals)\n",
    "    ax5.set_title(\"2 Hz\", fontsize=16)\n",
    "    \n",
    "    #ROI mask\n",
    "    mask_test = np.zeros((512,512))\n",
    "    x_start = roi_table.x[cell_index]\n",
    "    y_start = roi_table.y[cell_index]\n",
    "    x_delta = np.array(roi_table['mask'][cell_index]).shape[1]\n",
    "    y_delta = np.array(roi_table['mask'][cell_index]).shape[0]\n",
    "    mask_test[y_start:y_start+y_delta, x_start:x_start+x_delta] = np.array(roi_table['mask'][cell_index])\n",
    "    # mask_test[mask_test==0] = np.NaN\n",
    "\n",
    "    ax7.imshow(mp, cmap='gray')\n",
    "    # plt.imshow(rois)\n",
    "    # plt.imshow(mask_test, cmap='viridis_r')\n",
    "    plot_mask_outline(mask_test, ax7, color='y')\n",
    "    ax7.set_xlim(x_start-90, x_start+90)\n",
    "    ax7.set_ylim(y_start+90, y_start-90)\n",
    "    \n",
    "    #metrics\n",
    "    table_data = []\n",
    "    for key in keys1:\n",
    "        table_data.append([key, valid[valid.cell_id==cell_id][key].values[0]])\n",
    "    table = ax3.table(cellText=table_data, loc='center')\n",
    "    table.set_fontsize(12)\n",
    "#     table.scale(1,2)\n",
    "    ax3.axis('off')\n",
    "\n",
    "    \n",
    "    plt.suptitle(\"Session: \"+str(session_id)+\" Cell: \"+str(cell_id), fontsize=18)\n",
    "    plt.tight_layout()\n",
    "    plt.savefig(r'/Users/saskiad/Documents/Data/Openscope_Multiplex_trim/analysis/ST_figures/'+str(cell_id)+'.png')\n",
    "    plt.close()"
   ]
  },
  {
   "cell_type": "code",
   "execution_count": 40,
   "metadata": {},
   "outputs": [
    {
     "data": {
      "text/plain": [
       "1"
      ]
     },
     "execution_count": 40,
     "metadata": {},
     "output_type": "execute_result"
    }
   ],
   "source": [
    "row.tf"
   ]
  },
  {
   "cell_type": "code",
   "execution_count": 41,
   "metadata": {},
   "outputs": [
    {
     "data": {
      "text/plain": [
       "[1.0, 2.0]"
      ]
     },
     "execution_count": 41,
     "metadata": {},
     "output_type": "execute_result"
    }
   ],
   "source": [
    "tfvals"
   ]
  },
  {
   "cell_type": "code",
   "execution_count": 42,
   "metadata": {},
   "outputs": [
    {
     "data": {
      "text/plain": [
       "2.0"
      ]
     },
     "execution_count": 42,
     "metadata": {},
     "output_type": "execute_result"
    }
   ],
   "source": [
    "tfvals[int(row.tf)]"
   ]
  },
  {
   "cell_type": "code",
   "execution_count": 43,
   "metadata": {},
   "outputs": [
    {
     "data": {
      "text/plain": [
       "5"
      ]
     },
     "execution_count": 43,
     "metadata": {},
     "output_type": "execute_result"
    }
   ],
   "source": [
    "row.prefsize"
   ]
  },
  {
   "cell_type": "code",
   "execution_count": null,
   "metadata": {},
   "outputs": [],
   "source": []
  }
 ],
 "metadata": {
  "kernelspec": {
   "display_name": "Python 3",
   "language": "python",
   "name": "python3"
  },
  "language_info": {
   "codemirror_mode": {
    "name": "ipython",
    "version": 3
   },
   "file_extension": ".py",
   "mimetype": "text/x-python",
   "name": "python",
   "nbconvert_exporter": "python",
   "pygments_lexer": "ipython3",
   "version": "3.7.3"
  }
 },
 "nbformat": 4,
 "nbformat_minor": 2
}
